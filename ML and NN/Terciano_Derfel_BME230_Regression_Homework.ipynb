{
  "nbformat": 4,
  "nbformat_minor": 0,
  "metadata": {
    "colab": {
      "provenance": []
    },
    "kernelspec": {
      "display_name": "Python 3",
      "name": "python3"
    },
    "language_info": {
      "name": "python"
    },
    "gpuClass": "standard"
  },
  "cells": [
    {
      "cell_type": "markdown",
      "metadata": {
        "id": "a5eSFzm_NNvG"
      },
      "source": [
        "# BME-230A: Homework 2 Part A \n",
        "\n",
        "Your assignment for homework 2A is to redo the linear regression analysis, but using a different classification method from SKLearn. \n",
        "\n",
        "Copy this notebook and complete the homework as an IPython notebook. Submit the notebook file to Canvas to complete the homework.\n",
        "\n",
        "Use the same dataset:\n",
        "https://drive.google.com/file/d/1FZbQCEHr2Rie4cXSM6Udg0SaWTtPnEHO/view?usp=sharing\n",
        "\n",
        "Goals and Requirements:\n",
        "1. Select a classification method from [SKLearn](http://scikit-learn.org/):\n",
        "    * We recommend logistic regression or any forest method as they are fairly intuitive. Feel free to investigate a method for regularization of the model (preventing over training).\n",
        "\n",
        "2. Write a short explanation of the method and how it works (look for explanations in documention, youtube, or online).\n",
        "\n",
        "3. Try to achieve the highest accuracy / estimator quality.\n",
        "\n",
        "*Notes*:\n",
        "\n",
        "Use a reasonable train/test split of 80%/20% or even 70%/30% to avoid too much variance in your estimate of accuracy, FPR and TPR. "
      ]
    },
    {
      "cell_type": "markdown",
      "metadata": {
        "id": "bFp4Rq2BNNvH"
      },
      "source": [
        "## Method\n",
        "\n",
        "Describe the method you have selected and give a short explanation of how it works. Feel free to include a textual description and any mathematics you feel relevant.\n",
        "\n",
        "  - In this homework, I opt-in to use a logistic regression for my approach. Even though the name of the model is a regression, it has been adapted to fit a linear classfication model (as per sklearn documentation). \n",
        "  - In general, logistic regression is a supervised learning classification model used to predict the probability of a certain value using a **logistic function**. Typically, it uses a succes or failure binary code as its output (this is called a binary logistic regresstion) however, there can be different kinds of logistic regression. Other kinds include: Multinomial regressions (where there may be outcome other than a 1 or 0 in *any order*) and Ordinal (where it can also have many outcomes more than a 1 or 0 but in this canse the outputs must be *ordered*.)\n"
      ]
    },
    {
      "cell_type": "markdown",
      "metadata": {
        "id": "Y4BfV3M19Vkm"
      },
      "source": [
        "# Your Code\n",
        "\n",
        "Below include your code"
      ]
    },
    {
      "cell_type": "code",
      "metadata": {
        "id": "yJyrwe1D9a2l"
      },
      "source": [
        "import sklearn\n",
        "import urllib.request\n",
        "import numpy as np\n",
        "import pandas as pd\n",
        "import matplotlib.pyplot as plt\n",
        "\n",
        "#check if we have sklearn installed\n",
        "try:\n",
        "  from sklearn import datasets, linear_model, preprocessing\n",
        "  from sklearn.model_selection import train_test_split\n",
        "  from sklearn.metrics import accuracy_score, confusion_matrix\n",
        "except:\n",
        "  !pip install sklearn\n",
        "  from sklearn import datasets, linear_model, preprocessing\n",
        "  from sklearn.model_selection import train_test_split\n",
        "  from sklearn.metrics import accuracy_score, confusion_matrix"
      ],
      "execution_count": null,
      "outputs": []
    },
    {
      "cell_type": "code",
      "source": [
        "#Get file\n",
        "url = 'https://raw.githubusercontent.com/benedictpaten/intro_python/main/lecture_notebooks/data/breast-cancer-wisconsin.data.csv'\n",
        "cancer_data_file = 'cancer_data.csv'\n",
        "urllib.request.urlretrieve(url, cancer_data_file)"
      ],
      "metadata": {
        "colab": {
          "base_uri": "https://localhost:8080/"
        },
        "id": "kjyifheAeFBK",
        "outputId": "262667f9-893c-4692-8ca0-abad1731a714"
      },
      "execution_count": null,
      "outputs": [
        {
          "output_type": "execute_result",
          "data": {
            "text/plain": [
              "('cancer_data.csv', <http.client.HTTPMessage at 0x7f61ee91f340>)"
            ]
          },
          "metadata": {},
          "execution_count": 90
        }
      ]
    },
    {
      "cell_type": "code",
      "source": [
        "#Loading data\n",
        "df = pd.read_csv('cancer_data.csv')\n",
        "df.head(5)"
      ],
      "metadata": {
        "colab": {
          "base_uri": "https://localhost:8080/",
          "height": 206
        },
        "id": "G2ODw0bjezT6",
        "outputId": "b9cfd49c-8c63-41d6-a09c-c0239fd01f32"
      },
      "execution_count": null,
      "outputs": [
        {
          "output_type": "execute_result",
          "data": {
            "text/plain": [
              "        id  clump-thickness  uniformity-of-cell-size  \\\n",
              "0  1000025                5                        1   \n",
              "1  1002945                5                        4   \n",
              "2  1015425                3                        1   \n",
              "3  1016277                6                        8   \n",
              "4  1017023                4                        1   \n",
              "\n",
              "   uniformity-of-cell-shape  marginal-adhesion  single-epithelial-cell-size  \\\n",
              "0                         1                  1                            2   \n",
              "1                         4                  5                            7   \n",
              "2                         1                  1                            2   \n",
              "3                         8                  1                            3   \n",
              "4                         1                  3                            2   \n",
              "\n",
              "  bare-nuclei  bland-chromatin  normal-nucleoli  mitoses  class  \n",
              "0           1                3                1        1      2  \n",
              "1          10                3                2        1      2  \n",
              "2           2                3                1        1      2  \n",
              "3           4                3                7        1      2  \n",
              "4           1                3                1        1      2  "
            ],
            "text/html": [
              "\n",
              "  <div id=\"df-36c3ea9d-1b45-4e11-8719-293ac0bf1c69\">\n",
              "    <div class=\"colab-df-container\">\n",
              "      <div>\n",
              "<style scoped>\n",
              "    .dataframe tbody tr th:only-of-type {\n",
              "        vertical-align: middle;\n",
              "    }\n",
              "\n",
              "    .dataframe tbody tr th {\n",
              "        vertical-align: top;\n",
              "    }\n",
              "\n",
              "    .dataframe thead th {\n",
              "        text-align: right;\n",
              "    }\n",
              "</style>\n",
              "<table border=\"1\" class=\"dataframe\">\n",
              "  <thead>\n",
              "    <tr style=\"text-align: right;\">\n",
              "      <th></th>\n",
              "      <th>id</th>\n",
              "      <th>clump-thickness</th>\n",
              "      <th>uniformity-of-cell-size</th>\n",
              "      <th>uniformity-of-cell-shape</th>\n",
              "      <th>marginal-adhesion</th>\n",
              "      <th>single-epithelial-cell-size</th>\n",
              "      <th>bare-nuclei</th>\n",
              "      <th>bland-chromatin</th>\n",
              "      <th>normal-nucleoli</th>\n",
              "      <th>mitoses</th>\n",
              "      <th>class</th>\n",
              "    </tr>\n",
              "  </thead>\n",
              "  <tbody>\n",
              "    <tr>\n",
              "      <th>0</th>\n",
              "      <td>1000025</td>\n",
              "      <td>5</td>\n",
              "      <td>1</td>\n",
              "      <td>1</td>\n",
              "      <td>1</td>\n",
              "      <td>2</td>\n",
              "      <td>1</td>\n",
              "      <td>3</td>\n",
              "      <td>1</td>\n",
              "      <td>1</td>\n",
              "      <td>2</td>\n",
              "    </tr>\n",
              "    <tr>\n",
              "      <th>1</th>\n",
              "      <td>1002945</td>\n",
              "      <td>5</td>\n",
              "      <td>4</td>\n",
              "      <td>4</td>\n",
              "      <td>5</td>\n",
              "      <td>7</td>\n",
              "      <td>10</td>\n",
              "      <td>3</td>\n",
              "      <td>2</td>\n",
              "      <td>1</td>\n",
              "      <td>2</td>\n",
              "    </tr>\n",
              "    <tr>\n",
              "      <th>2</th>\n",
              "      <td>1015425</td>\n",
              "      <td>3</td>\n",
              "      <td>1</td>\n",
              "      <td>1</td>\n",
              "      <td>1</td>\n",
              "      <td>2</td>\n",
              "      <td>2</td>\n",
              "      <td>3</td>\n",
              "      <td>1</td>\n",
              "      <td>1</td>\n",
              "      <td>2</td>\n",
              "    </tr>\n",
              "    <tr>\n",
              "      <th>3</th>\n",
              "      <td>1016277</td>\n",
              "      <td>6</td>\n",
              "      <td>8</td>\n",
              "      <td>8</td>\n",
              "      <td>1</td>\n",
              "      <td>3</td>\n",
              "      <td>4</td>\n",
              "      <td>3</td>\n",
              "      <td>7</td>\n",
              "      <td>1</td>\n",
              "      <td>2</td>\n",
              "    </tr>\n",
              "    <tr>\n",
              "      <th>4</th>\n",
              "      <td>1017023</td>\n",
              "      <td>4</td>\n",
              "      <td>1</td>\n",
              "      <td>1</td>\n",
              "      <td>3</td>\n",
              "      <td>2</td>\n",
              "      <td>1</td>\n",
              "      <td>3</td>\n",
              "      <td>1</td>\n",
              "      <td>1</td>\n",
              "      <td>2</td>\n",
              "    </tr>\n",
              "  </tbody>\n",
              "</table>\n",
              "</div>\n",
              "      <button class=\"colab-df-convert\" onclick=\"convertToInteractive('df-36c3ea9d-1b45-4e11-8719-293ac0bf1c69')\"\n",
              "              title=\"Convert this dataframe to an interactive table.\"\n",
              "              style=\"display:none;\">\n",
              "        \n",
              "  <svg xmlns=\"http://www.w3.org/2000/svg\" height=\"24px\"viewBox=\"0 0 24 24\"\n",
              "       width=\"24px\">\n",
              "    <path d=\"M0 0h24v24H0V0z\" fill=\"none\"/>\n",
              "    <path d=\"M18.56 5.44l.94 2.06.94-2.06 2.06-.94-2.06-.94-.94-2.06-.94 2.06-2.06.94zm-11 1L8.5 8.5l.94-2.06 2.06-.94-2.06-.94L8.5 2.5l-.94 2.06-2.06.94zm10 10l.94 2.06.94-2.06 2.06-.94-2.06-.94-.94-2.06-.94 2.06-2.06.94z\"/><path d=\"M17.41 7.96l-1.37-1.37c-.4-.4-.92-.59-1.43-.59-.52 0-1.04.2-1.43.59L10.3 9.45l-7.72 7.72c-.78.78-.78 2.05 0 2.83L4 21.41c.39.39.9.59 1.41.59.51 0 1.02-.2 1.41-.59l7.78-7.78 2.81-2.81c.8-.78.8-2.07 0-2.86zM5.41 20L4 18.59l7.72-7.72 1.47 1.35L5.41 20z\"/>\n",
              "  </svg>\n",
              "      </button>\n",
              "      \n",
              "  <style>\n",
              "    .colab-df-container {\n",
              "      display:flex;\n",
              "      flex-wrap:wrap;\n",
              "      gap: 12px;\n",
              "    }\n",
              "\n",
              "    .colab-df-convert {\n",
              "      background-color: #E8F0FE;\n",
              "      border: none;\n",
              "      border-radius: 50%;\n",
              "      cursor: pointer;\n",
              "      display: none;\n",
              "      fill: #1967D2;\n",
              "      height: 32px;\n",
              "      padding: 0 0 0 0;\n",
              "      width: 32px;\n",
              "    }\n",
              "\n",
              "    .colab-df-convert:hover {\n",
              "      background-color: #E2EBFA;\n",
              "      box-shadow: 0px 1px 2px rgba(60, 64, 67, 0.3), 0px 1px 3px 1px rgba(60, 64, 67, 0.15);\n",
              "      fill: #174EA6;\n",
              "    }\n",
              "\n",
              "    [theme=dark] .colab-df-convert {\n",
              "      background-color: #3B4455;\n",
              "      fill: #D2E3FC;\n",
              "    }\n",
              "\n",
              "    [theme=dark] .colab-df-convert:hover {\n",
              "      background-color: #434B5C;\n",
              "      box-shadow: 0px 1px 3px 1px rgba(0, 0, 0, 0.15);\n",
              "      filter: drop-shadow(0px 1px 2px rgba(0, 0, 0, 0.3));\n",
              "      fill: #FFFFFF;\n",
              "    }\n",
              "  </style>\n",
              "\n",
              "      <script>\n",
              "        const buttonEl =\n",
              "          document.querySelector('#df-36c3ea9d-1b45-4e11-8719-293ac0bf1c69 button.colab-df-convert');\n",
              "        buttonEl.style.display =\n",
              "          google.colab.kernel.accessAllowed ? 'block' : 'none';\n",
              "\n",
              "        async function convertToInteractive(key) {\n",
              "          const element = document.querySelector('#df-36c3ea9d-1b45-4e11-8719-293ac0bf1c69');\n",
              "          const dataTable =\n",
              "            await google.colab.kernel.invokeFunction('convertToInteractive',\n",
              "                                                     [key], {});\n",
              "          if (!dataTable) return;\n",
              "\n",
              "          const docLinkHtml = 'Like what you see? Visit the ' +\n",
              "            '<a target=\"_blank\" href=https://colab.research.google.com/notebooks/data_table.ipynb>data table notebook</a>'\n",
              "            + ' to learn more about interactive tables.';\n",
              "          element.innerHTML = '';\n",
              "          dataTable['output_type'] = 'display_data';\n",
              "          await google.colab.output.renderOutput(dataTable, element);\n",
              "          const docLink = document.createElement('div');\n",
              "          docLink.innerHTML = docLinkHtml;\n",
              "          element.appendChild(docLink);\n",
              "        }\n",
              "      </script>\n",
              "    </div>\n",
              "  </div>\n",
              "  "
            ]
          },
          "metadata": {},
          "execution_count": 91
        }
      ]
    },
    {
      "cell_type": "code",
      "source": [
        "#Preprocessing data\n",
        "\n",
        "encoder = preprocessing.LabelEncoder()\n",
        "\n",
        "for col in df.columns:\n",
        "  df[col] = encoder.fit_transform(df[col])\n",
        "\n",
        "df.head(5)"
      ],
      "metadata": {
        "colab": {
          "base_uri": "https://localhost:8080/",
          "height": 206
        },
        "id": "F6QIgIbGf8OE",
        "outputId": "15cdd114-9adb-4dc5-b21e-5c0183975341"
      },
      "execution_count": null,
      "outputs": [
        {
          "output_type": "execute_result",
          "data": {
            "text/plain": [
              "    id  clump-thickness  uniformity-of-cell-size  uniformity-of-cell-shape  \\\n",
              "0  172                4                        0                         0   \n",
              "1  175                4                        3                         3   \n",
              "2  176                2                        0                         0   \n",
              "3  177                5                        7                         7   \n",
              "4  179                3                        0                         0   \n",
              "\n",
              "   marginal-adhesion  single-epithelial-cell-size  bare-nuclei  \\\n",
              "0                  0                            1            0   \n",
              "1                  4                            6            1   \n",
              "2                  0                            1            2   \n",
              "3                  0                            2            4   \n",
              "4                  2                            1            0   \n",
              "\n",
              "   bland-chromatin  normal-nucleoli  mitoses  class  \n",
              "0                2                0        0      0  \n",
              "1                2                1        0      0  \n",
              "2                2                0        0      0  \n",
              "3                2                6        0      0  \n",
              "4                2                0        0      0  "
            ],
            "text/html": [
              "\n",
              "  <div id=\"df-431d865a-2544-4461-8479-2568fd23009f\">\n",
              "    <div class=\"colab-df-container\">\n",
              "      <div>\n",
              "<style scoped>\n",
              "    .dataframe tbody tr th:only-of-type {\n",
              "        vertical-align: middle;\n",
              "    }\n",
              "\n",
              "    .dataframe tbody tr th {\n",
              "        vertical-align: top;\n",
              "    }\n",
              "\n",
              "    .dataframe thead th {\n",
              "        text-align: right;\n",
              "    }\n",
              "</style>\n",
              "<table border=\"1\" class=\"dataframe\">\n",
              "  <thead>\n",
              "    <tr style=\"text-align: right;\">\n",
              "      <th></th>\n",
              "      <th>id</th>\n",
              "      <th>clump-thickness</th>\n",
              "      <th>uniformity-of-cell-size</th>\n",
              "      <th>uniformity-of-cell-shape</th>\n",
              "      <th>marginal-adhesion</th>\n",
              "      <th>single-epithelial-cell-size</th>\n",
              "      <th>bare-nuclei</th>\n",
              "      <th>bland-chromatin</th>\n",
              "      <th>normal-nucleoli</th>\n",
              "      <th>mitoses</th>\n",
              "      <th>class</th>\n",
              "    </tr>\n",
              "  </thead>\n",
              "  <tbody>\n",
              "    <tr>\n",
              "      <th>0</th>\n",
              "      <td>172</td>\n",
              "      <td>4</td>\n",
              "      <td>0</td>\n",
              "      <td>0</td>\n",
              "      <td>0</td>\n",
              "      <td>1</td>\n",
              "      <td>0</td>\n",
              "      <td>2</td>\n",
              "      <td>0</td>\n",
              "      <td>0</td>\n",
              "      <td>0</td>\n",
              "    </tr>\n",
              "    <tr>\n",
              "      <th>1</th>\n",
              "      <td>175</td>\n",
              "      <td>4</td>\n",
              "      <td>3</td>\n",
              "      <td>3</td>\n",
              "      <td>4</td>\n",
              "      <td>6</td>\n",
              "      <td>1</td>\n",
              "      <td>2</td>\n",
              "      <td>1</td>\n",
              "      <td>0</td>\n",
              "      <td>0</td>\n",
              "    </tr>\n",
              "    <tr>\n",
              "      <th>2</th>\n",
              "      <td>176</td>\n",
              "      <td>2</td>\n",
              "      <td>0</td>\n",
              "      <td>0</td>\n",
              "      <td>0</td>\n",
              "      <td>1</td>\n",
              "      <td>2</td>\n",
              "      <td>2</td>\n",
              "      <td>0</td>\n",
              "      <td>0</td>\n",
              "      <td>0</td>\n",
              "    </tr>\n",
              "    <tr>\n",
              "      <th>3</th>\n",
              "      <td>177</td>\n",
              "      <td>5</td>\n",
              "      <td>7</td>\n",
              "      <td>7</td>\n",
              "      <td>0</td>\n",
              "      <td>2</td>\n",
              "      <td>4</td>\n",
              "      <td>2</td>\n",
              "      <td>6</td>\n",
              "      <td>0</td>\n",
              "      <td>0</td>\n",
              "    </tr>\n",
              "    <tr>\n",
              "      <th>4</th>\n",
              "      <td>179</td>\n",
              "      <td>3</td>\n",
              "      <td>0</td>\n",
              "      <td>0</td>\n",
              "      <td>2</td>\n",
              "      <td>1</td>\n",
              "      <td>0</td>\n",
              "      <td>2</td>\n",
              "      <td>0</td>\n",
              "      <td>0</td>\n",
              "      <td>0</td>\n",
              "    </tr>\n",
              "  </tbody>\n",
              "</table>\n",
              "</div>\n",
              "      <button class=\"colab-df-convert\" onclick=\"convertToInteractive('df-431d865a-2544-4461-8479-2568fd23009f')\"\n",
              "              title=\"Convert this dataframe to an interactive table.\"\n",
              "              style=\"display:none;\">\n",
              "        \n",
              "  <svg xmlns=\"http://www.w3.org/2000/svg\" height=\"24px\"viewBox=\"0 0 24 24\"\n",
              "       width=\"24px\">\n",
              "    <path d=\"M0 0h24v24H0V0z\" fill=\"none\"/>\n",
              "    <path d=\"M18.56 5.44l.94 2.06.94-2.06 2.06-.94-2.06-.94-.94-2.06-.94 2.06-2.06.94zm-11 1L8.5 8.5l.94-2.06 2.06-.94-2.06-.94L8.5 2.5l-.94 2.06-2.06.94zm10 10l.94 2.06.94-2.06 2.06-.94-2.06-.94-.94-2.06-.94 2.06-2.06.94z\"/><path d=\"M17.41 7.96l-1.37-1.37c-.4-.4-.92-.59-1.43-.59-.52 0-1.04.2-1.43.59L10.3 9.45l-7.72 7.72c-.78.78-.78 2.05 0 2.83L4 21.41c.39.39.9.59 1.41.59.51 0 1.02-.2 1.41-.59l7.78-7.78 2.81-2.81c.8-.78.8-2.07 0-2.86zM5.41 20L4 18.59l7.72-7.72 1.47 1.35L5.41 20z\"/>\n",
              "  </svg>\n",
              "      </button>\n",
              "      \n",
              "  <style>\n",
              "    .colab-df-container {\n",
              "      display:flex;\n",
              "      flex-wrap:wrap;\n",
              "      gap: 12px;\n",
              "    }\n",
              "\n",
              "    .colab-df-convert {\n",
              "      background-color: #E8F0FE;\n",
              "      border: none;\n",
              "      border-radius: 50%;\n",
              "      cursor: pointer;\n",
              "      display: none;\n",
              "      fill: #1967D2;\n",
              "      height: 32px;\n",
              "      padding: 0 0 0 0;\n",
              "      width: 32px;\n",
              "    }\n",
              "\n",
              "    .colab-df-convert:hover {\n",
              "      background-color: #E2EBFA;\n",
              "      box-shadow: 0px 1px 2px rgba(60, 64, 67, 0.3), 0px 1px 3px 1px rgba(60, 64, 67, 0.15);\n",
              "      fill: #174EA6;\n",
              "    }\n",
              "\n",
              "    [theme=dark] .colab-df-convert {\n",
              "      background-color: #3B4455;\n",
              "      fill: #D2E3FC;\n",
              "    }\n",
              "\n",
              "    [theme=dark] .colab-df-convert:hover {\n",
              "      background-color: #434B5C;\n",
              "      box-shadow: 0px 1px 3px 1px rgba(0, 0, 0, 0.15);\n",
              "      filter: drop-shadow(0px 1px 2px rgba(0, 0, 0, 0.3));\n",
              "      fill: #FFFFFF;\n",
              "    }\n",
              "  </style>\n",
              "\n",
              "      <script>\n",
              "        const buttonEl =\n",
              "          document.querySelector('#df-431d865a-2544-4461-8479-2568fd23009f button.colab-df-convert');\n",
              "        buttonEl.style.display =\n",
              "          google.colab.kernel.accessAllowed ? 'block' : 'none';\n",
              "\n",
              "        async function convertToInteractive(key) {\n",
              "          const element = document.querySelector('#df-431d865a-2544-4461-8479-2568fd23009f');\n",
              "          const dataTable =\n",
              "            await google.colab.kernel.invokeFunction('convertToInteractive',\n",
              "                                                     [key], {});\n",
              "          if (!dataTable) return;\n",
              "\n",
              "          const docLinkHtml = 'Like what you see? Visit the ' +\n",
              "            '<a target=\"_blank\" href=https://colab.research.google.com/notebooks/data_table.ipynb>data table notebook</a>'\n",
              "            + ' to learn more about interactive tables.';\n",
              "          element.innerHTML = '';\n",
              "          dataTable['output_type'] = 'display_data';\n",
              "          await google.colab.output.renderOutput(dataTable, element);\n",
              "          const docLink = document.createElement('div');\n",
              "          docLink.innerHTML = docLinkHtml;\n",
              "          element.appendChild(docLink);\n",
              "        }\n",
              "      </script>\n",
              "    </div>\n",
              "  </div>\n",
              "  "
            ]
          },
          "metadata": {},
          "execution_count": 92
        }
      ]
    },
    {
      "cell_type": "code",
      "source": [
        "#sklearn model\n",
        "\n",
        "x = df[['mitoses']]\n",
        "y = df['class']\n",
        "\n",
        "lm_model = linear_model.LogisticRegression(fit_intercept=True, n_jobs=1)\n",
        "lm_model.fit(x,y)\n",
        "print(\"sklearn, w, b, score: \", round(lm_model.coef_[0][0],6), round(lm_model.intercept_[0],6), round(lm_model.score(x,y), 6))"
      ],
      "metadata": {
        "colab": {
          "base_uri": "https://localhost:8080/"
        },
        "id": "vd3EDPcegjxP",
        "outputId": "80ab16e3-5b8e-42a6-d1ba-a281c3d5dd4e"
      },
      "execution_count": null,
      "outputs": [
        {
          "output_type": "stream",
          "name": "stdout",
          "text": [
            "sklearn, w, b, score:  1.308427 -1.109676 0.7897\n"
          ]
        }
      ]
    },
    {
      "cell_type": "code",
      "source": [
        "#Variable Selection\n",
        "features = list(df.keys())\n",
        "features.remove('id')\n",
        "features.remove('class')\n",
        "\n",
        "feature_scores = []\n",
        "\n",
        "for feature in features:\n",
        "    x = df[[feature]]\n",
        "    y = df['class']\n",
        "    lm_model = linear_model.LogisticRegression(fit_intercept=True, n_jobs=1)\n",
        "    lm_model.fit(x, y)\n",
        "    feature_scores.append([feature, lm_model.score(x,y)])\n",
        "\n",
        "feature_scores.sort(key=lambda x: x[1], reverse=True)\n",
        "for feature_score in feature_scores:\n",
        "    print(feature_score)"
      ],
      "metadata": {
        "colab": {
          "base_uri": "https://localhost:8080/"
        },
        "id": "2ERli5_1q5aB",
        "outputId": "bab8028b-6d9b-41a2-d69d-4d051f8afe3e"
      },
      "execution_count": null,
      "outputs": [
        {
          "output_type": "stream",
          "name": "stdout",
          "text": [
            "['uniformity-of-cell-size', 0.927038626609442]\n",
            "['uniformity-of-cell-shape', 0.9227467811158798]\n",
            "['bland-chromatin', 0.9070100143061517]\n",
            "['single-epithelial-cell-size', 0.8755364806866953]\n",
            "['normal-nucleoli', 0.8669527896995708]\n",
            "['marginal-adhesion', 0.8640915593705293]\n",
            "['clump-thickness', 0.8612303290414879]\n",
            "['mitoses', 0.7896995708154506]\n",
            "['bare-nuclei', 0.7138769670958512]\n"
          ]
        }
      ]
    },
    {
      "cell_type": "code",
      "source": [
        "#multiple variables\n",
        "x = df[['uniformity-of-cell-shape','uniformity-of-cell-size', 'bland-chromatin']]\n",
        "y = df['class']\n",
        "lm_model = linear_model.LogisticRegression(fit_intercept=True, n_jobs=1)\n",
        "lm_model.fit(x, y)\n",
        "print(\"Score: \", lm_model.score(x,y))"
      ],
      "metadata": {
        "colab": {
          "base_uri": "https://localhost:8080/"
        },
        "id": "x17Bpun0rh1j",
        "outputId": "17e921af-b141-4cd1-ad2b-42bcd1c8ea65"
      },
      "execution_count": null,
      "outputs": [
        {
          "output_type": "stream",
          "name": "stdout",
          "text": [
            "Score:  0.9470672389127325\n"
          ]
        }
      ]
    },
    {
      "cell_type": "code",
      "source": [
        "input_0 = df.loc[df['class'] == 0]\n",
        "y_0 = input_0['class']\n",
        "x_0 = input_0[['uniformity-of-cell-shape','uniformity-of-cell-size', 'bland-chromatin']]\n",
        "\n",
        "input_1 = df.loc[df['class'] == 1]\n",
        "y_1 = input_1['class']\n",
        "x_1 = input_1[['uniformity-of-cell-shape','uniformity-of-cell-size', 'bland-chromatin']]\n",
        "preds_0 = lm_model.predict(x_0)\n",
        "preds_1 = lm_model.predict(x_1)\n",
        "n, bins, patches = plt.hist(preds_0, bins=50, density=1, cumulative=0)\n",
        "plt.show()\n",
        "n, bins, patches = plt.hist(preds_1, bins=50, density=1, cumulative=0)\n",
        "plt.show()"
      ],
      "metadata": {
        "colab": {
          "base_uri": "https://localhost:8080/",
          "height": 514
        },
        "id": "dOqvwrrYtIiX",
        "outputId": "819b973a-3184-4ac8-9efe-ea4d5e3264ba"
      },
      "execution_count": null,
      "outputs": [
        {
          "output_type": "display_data",
          "data": {
            "text/plain": [
              "<Figure size 432x288 with 1 Axes>"
            ],
            "image/png": "[encoded data removed]"
          },
          "metadata": {
            "needs_background": "light"
          }
        },
        {
          "output_type": "display_data",
          "data": {
            "text/plain": [
              "<Figure size 432x288 with 1 Axes>"
            ],
            "image/png": "[encoded data removed]"
          },
          "metadata": {
            "needs_background": "light"
          }
        }
      ]
    },
    {
      "cell_type": "markdown",
      "metadata": {
        "id": "6v8hkGiMNNvI"
      },
      "source": [
        "# Classification\n",
        "Create training/test splits and train the classifier. Report the accuracy, FPR and TPR."
      ]
    },
    {
      "cell_type": "code",
      "metadata": {
        "id": "gQmwhhBeNNvJ",
        "colab": {
          "base_uri": "https://localhost:8080/"
        },
        "outputId": "ba069e8b-1c19-46df-d98b-a2649490c12a"
      },
      "source": [
        "#accuracy\n",
        "y_pred = lm_model.predict(x)\n",
        "y_pred = [1 if p > 0.5 else 0 for p in y_pred] # Binarizing the predictions using\n",
        "# a cutoff of 0.5\n",
        "accuracy_score(y, y_pred)"
      ],
      "execution_count": null,
      "outputs": [
        {
          "output_type": "execute_result",
          "data": {
            "text/plain": [
              "0.9470672389127325"
            ]
          },
          "metadata": {},
          "execution_count": 97
        }
      ]
    },
    {
      "cell_type": "code",
      "source": [
        "#splitting data\n",
        "(train,test) = train_test_split(df, test_size=0.2)\n",
        "\n",
        "train_output = train['class']\n",
        "train_input = train[['uniformity-of-cell-shape','uniformity-of-cell-size']]\n",
        "\n",
        "test_output = test['class']\n",
        "test_input = test[['uniformity-of-cell-shape','uniformity-of-cell-size']]"
      ],
      "metadata": {
        "id": "d--4FY8tv-8j"
      },
      "execution_count": null,
      "outputs": []
    },
    {
      "cell_type": "code",
      "source": [
        "#training data\n",
        "lm_model.fit(train_input, train_output)\n",
        "print(\"Score: \", lm_model.score(train_input, train_output))\n",
        "y_pred = lm_model.predict(test_input)\n",
        "y_pred = [1 if p > 0.5 else 0 for p in y_pred]\n",
        "print(f'Accuracy Score: {accuracy_score(test_output, y_pred)}')"
      ],
      "metadata": {
        "colab": {
          "base_uri": "https://localhost:8080/"
        },
        "id": "I69h9ZzKwNxz",
        "outputId": "2e816228-1972-4086-8cef-340a86f5c44d"
      },
      "execution_count": null,
      "outputs": [
        {
          "output_type": "stream",
          "name": "stdout",
          "text": [
            "Score:  0.9409660107334525\n",
            "Accuracy Score: 0.9642857142857143\n"
          ]
        }
      ]
    },
    {
      "cell_type": "code",
      "source": [
        "#Confusion Matrix\n",
        "print(confusion_matrix(test_output, y_pred))\n",
        "tn, fp, fn, tp = confusion_matrix(test_output, y_pred).ravel()\n",
        "fpr = fp * 1.0 / (fp+tn) # Fraction of true negative cases with a positive prediction\n",
        "fnr = fn * 1.0 / (tp+fn) # Fraction of true positive cases with a negative prediction\n",
        "print(\"False positive rate: (predicting malignant while benign)\", fpr)\n",
        "print(\"False negative rate: (predicting benign while malignant)\", fnr)"
      ],
      "metadata": {
        "colab": {
          "base_uri": "https://localhost:8080/"
        },
        "id": "8UoePrJtxtCB",
        "outputId": "74a2e6bb-9127-48f9-c1d3-8c57a63194aa"
      },
      "execution_count": null,
      "outputs": [
        {
          "output_type": "stream",
          "name": "stdout",
          "text": [
            "[[108   3]\n",
            " [  2  27]]\n",
            "False positive rate: (predicting malignant while benign) 0.02702702702702703\n",
            "False negative rate: (predicting benign while malignant) 0.06896551724137931\n"
          ]
        }
      ]
    },
    {
      "cell_type": "code",
      "source": [
        "y_pred = lm_model.predict(test_input)\n",
        "y_pred = [1 if p > 0.5 else 0 for p in y_pred]\n",
        "\n",
        "print(\"Accuracy\", accuracy_score(test_output, y_pred))\n",
        "\n",
        "print(confusion_matrix(test_output, y_pred))\n",
        "tn, fp, fn, tp = confusion_matrix(test_output, y_pred).ravel()\n",
        "fpr = fp * 1.0 / (fp+tn) # Fraction of true negative cases with a positive prediction\n",
        "fnr = fn * 1.0 / (tp+fn) # Fraction of true positive cases with a negative prediction\n",
        "print(\"False positive rate: (predicting malignant while benign)\", fpr)\n",
        "print(\"False negative rate: (predicting benign while malignant)\", fnr)"
      ],
      "metadata": {
        "colab": {
          "base_uri": "https://localhost:8080/"
        },
        "id": "fgI0PoDvxyty",
        "outputId": "6c0a5c27-6797-4f87-870f-7760d42a3c26"
      },
      "execution_count": null,
      "outputs": [
        {
          "output_type": "stream",
          "name": "stdout",
          "text": [
            "Accuracy 0.9642857142857143\n",
            "[[108   3]\n",
            " [  2  27]]\n",
            "False positive rate: (predicting malignant while benign) 0.02702702702702703\n",
            "False negative rate: (predicting benign while malignant) 0.06896551724137931\n"
          ]
        }
      ]
    },
    {
      "cell_type": "markdown",
      "metadata": {
        "id": "vpiCuvguNNvS"
      },
      "source": [
        "# Questions\n",
        "What feature contributes most to the prediction? How can we tell?"
      ]
    },
    {
      "cell_type": "markdown",
      "metadata": {
        "id": "YmpTtiemNNvT"
      },
      "source": [
        "- The feature that I found helped with the accuracy is the cutoff we chose and data split percentage that we created. If we look at the graph, it looks like our data is being trained perfectly witht hecutoff being at middle with a 0.5 value. Furthermore, our data split allowed us to get a higher accuracy score when we use our testing data. This is because our model has more data to train on. When I tried a 70/30 split, I found that my accuracy score to be lower until I change my data split to 80/20. "
      ]
    },
    {
      "cell_type": "markdown",
      "metadata": {
        "id": "zlDc9idyNNvU"
      },
      "source": [
        "Explain in your own words the difference between regression and classification methods."
      ]
    },
    {
      "cell_type": "markdown",
      "metadata": {
        "id": "oQi55oSLNNvV"
      },
      "source": [
        "- In regression we are just trying to find an equation to **best fits** a given set of data. An example of this is with a linear equation and a line of best fit. In regression models, it does not have to be a line, we can use a quadratic, since, etc. as long as the equation best fits the data. Classification on the other hand is trying to predict where certain dataset inputs fit in two or more categories (classes). An example of this given a pile of clothes consisting of different shades of 3 colors: red, blue, and green. From the pile of clothes of different shades, categorize the pile into the 3 colors. Once you begin to learn which shade goes where, if someone were to give you a different pile of clothes, then it would become easier for you to generalize which pile the clothes go to."
      ]
    },
    {
      "cell_type": "markdown",
      "metadata": {
        "id": "GaZLWMMjNNvV"
      },
      "source": [
        "Is it best to use all the features or exclude some? Why?"
      ]
    },
    {
      "cell_type": "markdown",
      "metadata": {
        "id": "7Kwmwj5SNNvX"
      },
      "source": [
        "- It is best to include *include* all features in an ML model. Each feature will ultimately affect how an ML model performs. For instance, if we don't choose a good data split, then we will get a higher accuracy of our predictions. If we choose a bad split let's say a 50/50 split then we would be under fitting our model since we do not have enough data to learn from. In the end however, it depends on what your situation is and whether or not it is best to leave out certain features."
      ]
    },
    {
      "cell_type": "markdown",
      "metadata": {
        "id": "nQYuLi-S1J4h"
      },
      "source": [
        "What methods can be used to prevent over-training? How would or did you apply these methods to create a robust model?"
      ]
    },
    {
      "cell_type": "markdown",
      "metadata": {
        "id": "HOywC4cV1TkQ"
      },
      "source": [
        "- One primary method that can be used from over-training is to not have *too many* training data points. This can lead to over fitting and over training due to the fact that the model may learn from noise and outliers. We want our model to learn from a generalization rather than specific situations. Furthermore another method that we can use to prevent over-fitting is to use given context and figure out which model best fits your situation. I feel like it may be possible to be given data, ignoring context and using a model that may not make sense to your scenarion."
      ]
    }
  ]
}